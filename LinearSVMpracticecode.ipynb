{
  "nbformat": 4,
  "nbformat_minor": 0,
  "metadata": {
    "colab": {
      "name": "SVMpracticecode.ipynb",
      "provenance": []
    },
    "kernelspec": {
      "name": "python3",
      "display_name": "Python 3"
    },
    "language_info": {
      "name": "python"
    }
  },
  "cells": [
    {
      "cell_type": "code",
      "execution_count": null,
      "metadata": {
        "id": "0GEdkWZqePlQ"
      },
      "outputs": [],
      "source": [
        ""
      ]
    },
    {
      "cell_type": "markdown",
      "source": [
        "SVM - Linear Model - Diabetes Dataset\n",
        "Description\n",
        "The Pima Indians Diabetes dataset contains observations on various health-related attributes, such as plasma glucose concentration, body mass index (BMI) etc. Each row contains a patient's attributes and whether or not he/she had diabetes.\n",
        "\n",
        "In this question, you will build a linear SVM model using cost C=1 to predict whether a given patient has diabetes.\n",
        "v"
      ],
      "metadata": {
        "id": "6NESE62AeUGj"
      }
    },
    {
      "cell_type": "markdown",
      "source": [
        "\n",
        " The training data is provided here:\n",
        "/data/training/diabetes_train.csv\n",
        "\n",
        "After you train the model, use the test data to make predictions. The test data can be accessed here. \n",
        "/data/test/diabetes_test.csv\n",
        "\n",
        "You have to write the predictions in the file\n",
        "/code/output/diabetes_predictions.csv\n",
        "\n",
        "in the following format (note the column names carefully):\n",
        "    Diabetes_Predicted   id\n",
        "0                   0  314\n",
        "1                   0   85\n",
        "2                   0  183\n",
        "3                   0  371\n",
        "4                   0  152\n",
        "\n",
        "Your model's accuracy will be evaluated on an unseen test dataset.\n",
        "Datasets"
      ],
      "metadata": {
        "id": "tQ0aauPMepAe"
      }
    },
    {
      "cell_type": "code",
      "source": [
        "import numpy as np\n",
        "import pandas as pd\n",
        "\n",
        "from sklearn import metrics\n",
        "from sklearn.svm import SVC\n",
        "\n",
        "# read training data pp-trial3\n",
        "diabetes_train = pd.read_csv(\"/data/training/diabetes_train.csv\")\n",
        "\n",
        "# read test data\n",
        "diabetes_test = pd.read_csv(\"/data/test/diabetes_test.csv\")\n",
        "\n",
        "print(diabetes_train.head())\n",
        "print(diabetes_test.head())\n",
        "\n",
        "# # # build the model \n",
        "# # # create logistic regression object\n",
        "linear_model = SVC(C=1)\n",
        "\n",
        "print(diabetes_train.head())\n",
        "\n",
        "# # # train the model\n",
        "x_train = diabetes_train.iloc[:, :7]\n",
        "y_train = diabetes_train.iloc[:, 7]\n",
        "\n",
        "linear_model.fit(x_train, y_train)\n",
        "\n",
        "# # # # make predictions\n",
        "print(diabetes_test.head())\n",
        "predictions = linear_model.predict(diabetes_test.iloc[:, :7])\n",
        "predictions[:5]\n",
        "\n",
        "\n",
        "# # # # write columns id, predictions into the output file\n",
        "d = pd.DataFrame({'id': diabetes_test['id'], 'Diabetes_Predicted': predictions})\n",
        "print(\"\\n\", \"d\", \"\\n\", d.head())\n",
        "\n",
        "# # # # # write the output\n",
        "d = pd.DataFrame({'id': diabetes_test['id'], 'Diabetes_Predicted': predictions})\n",
        "d.to_csv('/code/output/diabetes_predictions.csv', sep=\",\")v"
      ],
      "metadata": {
        "id": "XxOI6KwOeV8l"
      },
      "execution_count": null,
      "outputs": []
    }
  ]
}